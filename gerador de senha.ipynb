{
 "cells": [
  {
   "cell_type": "code",
   "execution_count": 4,
   "id": "e425931f",
   "metadata": {},
   "outputs": [
    {
     "name": "stdout",
     "output_type": "stream",
     "text": [
      "eDC6/RKfitx5\n"
     ]
    }
   ],
   "source": [
    "import random \n",
    "#importa a biblioteca necessaria para gerar valores aleatorios\n",
    "lower = 'abcdefghijklmnoprstuvwxyz'\n",
    "upper = 'ABCDEFGHIJKLMNOPQRSTUVWXYZ'\n",
    "numbers = '0123456789'\n",
    "symbols = '[]{}()*;/,._-'\n",
    "\n",
    "#as condições para a montagem da senha\n",
    "all = lower + upper + numbers + symbols \n",
    "length = 12\n",
    "#a quantidade de cacateres que se faz necessario pelo usuario\n",
    "password = ''.join(random.sample(all,length))\n",
    "\n",
    "print(password)"
   ]
  },
  {
   "cell_type": "code",
   "execution_count": null,
   "id": "faaa6ce6",
   "metadata": {},
   "outputs": [],
   "source": []
  }
 ],
 "metadata": {
  "kernelspec": {
   "display_name": "base",
   "language": "python",
   "name": "python3"
  },
  "language_info": {
   "codemirror_mode": {
    "name": "ipython",
    "version": 3
   },
   "file_extension": ".py",
   "mimetype": "text/x-python",
   "name": "python",
   "nbconvert_exporter": "python",
   "pygments_lexer": "ipython3",
   "version": "3.11.2"
  },
  "vscode": {
   "interpreter": {
    "hash": "a00eb28febb44950e65d649893dbc52fbe6a106db8458738acf906b55f2b0477"
   }
  }
 },
 "nbformat": 4,
 "nbformat_minor": 5
}
